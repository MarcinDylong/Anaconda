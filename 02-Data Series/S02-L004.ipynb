{
 "cells": [
  {
   "cell_type": "code",
   "execution_count": 3,
   "metadata": {},
   "outputs": [],
   "source": [
    "import pandas as pd\n",
    "import numpy as np\n",
    "import matplotlib.pyplot as plt\n",
    "import math as math\n",
    "import random as rnd"
   ]
  },
  {
   "cell_type": "code",
   "execution_count": 4,
   "metadata": {},
   "outputs": [],
   "source": [
    "dataAsFloatList = [i*rnd.random() for i in range(100000)]"
   ]
  },
  {
   "cell_type": "code",
   "execution_count": 5,
   "metadata": {},
   "outputs": [],
   "source": [
    "dataAsFloatSeries = pd.Series(dataAsFloatList)"
   ]
  },
  {
   "cell_type": "code",
   "execution_count": 12,
   "metadata": {},
   "outputs": [
    {
     "name": "stdout",
     "output_type": "stream",
     "text": [
      "Size: 100000\n",
      "Nbytes: 800000\n",
      "Shape: (100000,)\n",
      "Axes: [RangeIndex(start=0, stop=100000, step=1)]\n",
      "Dtype: float64\n",
      "Index: RangeIndex(start=0, stop=100000, step=1)\n",
      "Is unique: True\n",
      "Is monotonic: False\n"
     ]
    }
   ],
   "source": [
    "print('Size:',dataAsFloatSeries.size)\n",
    "print('Nbytes:',dataAsFloatSeries.nbytes)\n",
    "print('Shape:',dataAsFloatSeries.shape)\n",
    "print('Axes:',dataAsFloatSeries.axes)\n",
    "print('Dtype:',dataAsFloatSeries.dtype)\n",
    "print('Index:',dataAsFloatSeries.index)\n",
    "print('Is unique:',dataAsFloatSeries.is_unique)\n",
    "print('Is monotonic:',dataAsFloatSeries.is_monotonic)"
   ]
  },
  {
   "cell_type": "code",
   "execution_count": 15,
   "metadata": {},
   "outputs": [],
   "source": [
    "dataAsStringList = [str(i*rnd.random()) for i in range(100000)]\n",
    "dataAsStringSeries = pd.Series(dataAsStringList)\n",
    "# dataAsStringSeries"
   ]
  },
  {
   "cell_type": "code",
   "execution_count": 16,
   "metadata": {},
   "outputs": [
    {
     "name": "stdout",
     "output_type": "stream",
     "text": [
      "Size: 100000\n",
      "Nbytes: 800000\n",
      "Dtype: object\n"
     ]
    }
   ],
   "source": [
    "print('Size:',dataAsStringSeries.size)\n",
    "print('Nbytes:',dataAsStringSeries.nbytes)\n",
    "print('Dtype:',dataAsStringSeries.dtype)"
   ]
  },
  {
   "cell_type": "code",
   "execution_count": 17,
   "metadata": {},
   "outputs": [
    {
     "name": "stdout",
     "output_type": "stream",
     "text": [
      "800128\n",
      "7434939\n"
     ]
    }
   ],
   "source": [
    "print(dataAsFloatSeries.memory_usage(deep=True))\n",
    "print(dataAsStringSeries.memory_usage(deep=True))"
   ]
  },
  {
   "cell_type": "code",
   "execution_count": null,
   "metadata": {},
   "outputs": [],
   "source": []
  }
 ],
 "metadata": {
  "kernelspec": {
   "display_name": "Python 3",
   "language": "python",
   "name": "python3"
  },
  "language_info": {
   "codemirror_mode": {
    "name": "ipython",
    "version": 3
   },
   "file_extension": ".py",
   "mimetype": "text/x-python",
   "name": "python",
   "nbconvert_exporter": "python",
   "pygments_lexer": "ipython3",
   "version": "3.7.7"
  }
 },
 "nbformat": 4,
 "nbformat_minor": 4
}
