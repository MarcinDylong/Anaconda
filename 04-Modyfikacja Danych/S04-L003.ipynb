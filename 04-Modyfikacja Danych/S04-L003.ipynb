{
 "cells": [
  {
   "cell_type": "code",
   "execution_count": 2,
   "metadata": {},
   "outputs": [],
   "source": [
    "import pandas as pd\n",
    "import numpy as np"
   ]
  },
  {
   "cell_type": "code",
   "execution_count": 3,
   "metadata": {
    "collapsed": true
   },
   "outputs": [
    {
     "data": {
      "text/html": [
       "<div>\n",
       "<style scoped>\n",
       "    .dataframe tbody tr th:only-of-type {\n",
       "        vertical-align: middle;\n",
       "    }\n",
       "\n",
       "    .dataframe tbody tr th {\n",
       "        vertical-align: top;\n",
       "    }\n",
       "\n",
       "    .dataframe thead th {\n",
       "        text-align: right;\n",
       "    }\n",
       "</style>\n",
       "<table border=\"1\" class=\"dataframe\">\n",
       "  <thead>\n",
       "    <tr style=\"text-align: right;\">\n",
       "      <th></th>\n",
       "      <th>name</th>\n",
       "      <th>education</th>\n",
       "      <th>income</th>\n",
       "      <th>women</th>\n",
       "      <th>prestige</th>\n",
       "      <th>census</th>\n",
       "      <th>type</th>\n",
       "    </tr>\n",
       "  </thead>\n",
       "  <tbody>\n",
       "    <tr>\n",
       "      <th>0</th>\n",
       "      <td>gov.administrators</td>\n",
       "      <td>13.11</td>\n",
       "      <td>12351</td>\n",
       "      <td>11.16</td>\n",
       "      <td>68.8</td>\n",
       "      <td>1113</td>\n",
       "      <td>prof</td>\n",
       "    </tr>\n",
       "    <tr>\n",
       "      <th>1</th>\n",
       "      <td>general.managers</td>\n",
       "      <td>12.26</td>\n",
       "      <td>25879</td>\n",
       "      <td>4.02</td>\n",
       "      <td>69.1</td>\n",
       "      <td>1130</td>\n",
       "      <td>prof</td>\n",
       "    </tr>\n",
       "    <tr>\n",
       "      <th>2</th>\n",
       "      <td>accountants</td>\n",
       "      <td>12.77</td>\n",
       "      <td>9271</td>\n",
       "      <td>15.70</td>\n",
       "      <td>63.4</td>\n",
       "      <td>1171</td>\n",
       "      <td>prof</td>\n",
       "    </tr>\n",
       "    <tr>\n",
       "      <th>3</th>\n",
       "      <td>purchasing.officers</td>\n",
       "      <td>11.42</td>\n",
       "      <td>8865</td>\n",
       "      <td>9.11</td>\n",
       "      <td>56.8</td>\n",
       "      <td>1175</td>\n",
       "      <td>prof</td>\n",
       "    </tr>\n",
       "    <tr>\n",
       "      <th>4</th>\n",
       "      <td>chemists</td>\n",
       "      <td>14.62</td>\n",
       "      <td>8403</td>\n",
       "      <td>11.68</td>\n",
       "      <td>73.5</td>\n",
       "      <td>2111</td>\n",
       "      <td>prof</td>\n",
       "    </tr>\n",
       "  </tbody>\n",
       "</table>\n",
       "</div>"
      ],
      "text/plain": [
       "                  name  education  income  women  prestige  census  type\n",
       "0   gov.administrators      13.11   12351  11.16      68.8    1113  prof\n",
       "1     general.managers      12.26   25879   4.02      69.1    1130  prof\n",
       "2          accountants      12.77    9271  15.70      63.4    1171  prof\n",
       "3  purchasing.officers      11.42    8865   9.11      56.8    1175  prof\n",
       "4             chemists      14.62    8403  11.68      73.5    2111  prof"
      ]
     },
     "execution_count": 3,
     "metadata": {},
     "output_type": "execute_result"
    }
   ],
   "source": [
    "prof = pd.read_csv('./data/Prestige.csv')\n",
    "prof.head()"
   ]
  },
  {
   "cell_type": "code",
   "execution_count": 8,
   "metadata": {
    "collapsed": true
   },
   "outputs": [
    {
     "data": {
      "text/plain": [
       "{'name': 'data scientist',\n",
       " 'education': nan,\n",
       " 'income': nan,\n",
       " 'women': nan,\n",
       " 'prestige': nan,\n",
       " 'census': nan,\n",
       " 'type': nan}"
      ]
     },
     "execution_count": 8,
     "metadata": {},
     "output_type": "execute_result"
    }
   ],
   "source": [
    "dct = {'name':'data scientist',\n",
    "        'education': np.NaN,\n",
    "        'income': np.NaN,\n",
    "        'women': np.NaN,\n",
    "        'prestige': np.NaN,\n",
    "        'census': np.NaN,\n",
    "        'type': np.NaN}\n",
    "dct"
   ]
  },
  {
   "cell_type": "code",
   "execution_count": 13,
   "metadata": {},
   "outputs": [],
   "source": [
    "prof = prof.append(dct, ignore_index=True)"
   ]
  },
  {
   "cell_type": "code",
   "execution_count": 15,
   "metadata": {
    "collapsed": true
   },
   "outputs": [
    {
     "data": {
      "text/html": [
       "<div>\n",
       "<style scoped>\n",
       "    .dataframe tbody tr th:only-of-type {\n",
       "        vertical-align: middle;\n",
       "    }\n",
       "\n",
       "    .dataframe tbody tr th {\n",
       "        vertical-align: top;\n",
       "    }\n",
       "\n",
       "    .dataframe thead th {\n",
       "        text-align: right;\n",
       "    }\n",
       "</style>\n",
       "<table border=\"1\" class=\"dataframe\">\n",
       "  <thead>\n",
       "    <tr style=\"text-align: right;\">\n",
       "      <th></th>\n",
       "      <th>name</th>\n",
       "      <th>education</th>\n",
       "      <th>income</th>\n",
       "      <th>women</th>\n",
       "      <th>prestige</th>\n",
       "      <th>census</th>\n",
       "      <th>type</th>\n",
       "    </tr>\n",
       "  </thead>\n",
       "  <tbody>\n",
       "    <tr>\n",
       "      <th>98</th>\n",
       "      <td>taxi.drivers</td>\n",
       "      <td>7.93</td>\n",
       "      <td>4224.0</td>\n",
       "      <td>3.59</td>\n",
       "      <td>25.1</td>\n",
       "      <td>9173.0</td>\n",
       "      <td>bc</td>\n",
       "    </tr>\n",
       "    <tr>\n",
       "      <th>99</th>\n",
       "      <td>longshoremen</td>\n",
       "      <td>8.37</td>\n",
       "      <td>4753.0</td>\n",
       "      <td>0.00</td>\n",
       "      <td>26.1</td>\n",
       "      <td>9313.0</td>\n",
       "      <td>bc</td>\n",
       "    </tr>\n",
       "    <tr>\n",
       "      <th>100</th>\n",
       "      <td>typesetters</td>\n",
       "      <td>10.00</td>\n",
       "      <td>6462.0</td>\n",
       "      <td>13.58</td>\n",
       "      <td>42.2</td>\n",
       "      <td>9511.0</td>\n",
       "      <td>bc</td>\n",
       "    </tr>\n",
       "    <tr>\n",
       "      <th>101</th>\n",
       "      <td>bookbinders</td>\n",
       "      <td>8.55</td>\n",
       "      <td>3617.0</td>\n",
       "      <td>70.87</td>\n",
       "      <td>35.2</td>\n",
       "      <td>9517.0</td>\n",
       "      <td>bc</td>\n",
       "    </tr>\n",
       "    <tr>\n",
       "      <th>102</th>\n",
       "      <td>data scientist</td>\n",
       "      <td>NaN</td>\n",
       "      <td>NaN</td>\n",
       "      <td>NaN</td>\n",
       "      <td>NaN</td>\n",
       "      <td>NaN</td>\n",
       "      <td>NaN</td>\n",
       "    </tr>\n",
       "  </tbody>\n",
       "</table>\n",
       "</div>"
      ],
      "text/plain": [
       "               name  education  income  women  prestige  census type\n",
       "98     taxi.drivers       7.93  4224.0   3.59      25.1  9173.0   bc\n",
       "99     longshoremen       8.37  4753.0   0.00      26.1  9313.0   bc\n",
       "100     typesetters      10.00  6462.0  13.58      42.2  9511.0   bc\n",
       "101     bookbinders       8.55  3617.0  70.87      35.2  9517.0   bc\n",
       "102  data scientist        NaN     NaN    NaN       NaN     NaN  NaN"
      ]
     },
     "execution_count": 15,
     "metadata": {},
     "output_type": "execute_result"
    }
   ],
   "source": [
    "prof.tail()"
   ]
  },
  {
   "cell_type": "code",
   "execution_count": 22,
   "metadata": {
    "collapsed": true
   },
   "outputs": [
    {
     "data": {
      "text/html": [
       "<div>\n",
       "<style scoped>\n",
       "    .dataframe tbody tr th:only-of-type {\n",
       "        vertical-align: middle;\n",
       "    }\n",
       "\n",
       "    .dataframe tbody tr th {\n",
       "        vertical-align: top;\n",
       "    }\n",
       "\n",
       "    .dataframe thead th {\n",
       "        text-align: right;\n",
       "    }\n",
       "</style>\n",
       "<table border=\"1\" class=\"dataframe\">\n",
       "  <thead>\n",
       "    <tr style=\"text-align: right;\">\n",
       "      <th></th>\n",
       "      <th>name</th>\n",
       "      <th>education</th>\n",
       "      <th>income</th>\n",
       "      <th>women</th>\n",
       "      <th>prestige</th>\n",
       "      <th>census</th>\n",
       "      <th>type</th>\n",
       "    </tr>\n",
       "  </thead>\n",
       "  <tbody>\n",
       "    <tr>\n",
       "      <th>98</th>\n",
       "      <td>taxi.drivers</td>\n",
       "      <td>7.93</td>\n",
       "      <td>4224.0</td>\n",
       "      <td>3.59</td>\n",
       "      <td>25.1</td>\n",
       "      <td>9173.0</td>\n",
       "      <td>bc</td>\n",
       "    </tr>\n",
       "  </tbody>\n",
       "</table>\n",
       "</div>"
      ],
      "text/plain": [
       "            name  education  income  women  prestige  census type\n",
       "98  taxi.drivers       7.93  4224.0   3.59      25.1  9173.0   bc"
      ]
     },
     "execution_count": 22,
     "metadata": {},
     "output_type": "execute_result"
    }
   ],
   "source": [
    "taxi = prof.where(prof['name']=='taxi.drivers').dropna()\n",
    "taxi"
   ]
  },
  {
   "cell_type": "code",
   "execution_count": 25,
   "metadata": {},
   "outputs": [],
   "source": [
    "prof = prof.drop(98)\n",
    "prof.tail()"
   ]
  },
  {
   "cell_type": "code",
   "execution_count": 27,
   "metadata": {},
   "outputs": [],
   "source": [
    "prof = prof.append(taxi)\n",
    "prof.tail()"
   ]
  },
  {
   "cell_type": "code",
   "execution_count": 30,
   "metadata": {},
   "outputs": [],
   "source": [
    "prof = prof.drop(columns='census')"
   ]
  },
  {
   "cell_type": "code",
   "execution_count": 31,
   "metadata": {},
   "outputs": [],
   "source": [
    "del prof['type']"
   ]
  },
  {
   "cell_type": "code",
   "execution_count": 32,
   "metadata": {
    "collapsed": true
   },
   "outputs": [
    {
     "data": {
      "text/html": [
       "<div>\n",
       "<style scoped>\n",
       "    .dataframe tbody tr th:only-of-type {\n",
       "        vertical-align: middle;\n",
       "    }\n",
       "\n",
       "    .dataframe tbody tr th {\n",
       "        vertical-align: top;\n",
       "    }\n",
       "\n",
       "    .dataframe thead th {\n",
       "        text-align: right;\n",
       "    }\n",
       "</style>\n",
       "<table border=\"1\" class=\"dataframe\">\n",
       "  <thead>\n",
       "    <tr style=\"text-align: right;\">\n",
       "      <th></th>\n",
       "      <th>name</th>\n",
       "      <th>education</th>\n",
       "      <th>income</th>\n",
       "      <th>women</th>\n",
       "      <th>prestige</th>\n",
       "    </tr>\n",
       "  </thead>\n",
       "  <tbody>\n",
       "    <tr>\n",
       "      <th>0</th>\n",
       "      <td>gov.administrators</td>\n",
       "      <td>13.11</td>\n",
       "      <td>12351.0</td>\n",
       "      <td>11.16</td>\n",
       "      <td>68.8</td>\n",
       "    </tr>\n",
       "    <tr>\n",
       "      <th>1</th>\n",
       "      <td>general.managers</td>\n",
       "      <td>12.26</td>\n",
       "      <td>25879.0</td>\n",
       "      <td>4.02</td>\n",
       "      <td>69.1</td>\n",
       "    </tr>\n",
       "    <tr>\n",
       "      <th>2</th>\n",
       "      <td>accountants</td>\n",
       "      <td>12.77</td>\n",
       "      <td>9271.0</td>\n",
       "      <td>15.70</td>\n",
       "      <td>63.4</td>\n",
       "    </tr>\n",
       "    <tr>\n",
       "      <th>3</th>\n",
       "      <td>purchasing.officers</td>\n",
       "      <td>11.42</td>\n",
       "      <td>8865.0</td>\n",
       "      <td>9.11</td>\n",
       "      <td>56.8</td>\n",
       "    </tr>\n",
       "    <tr>\n",
       "      <th>4</th>\n",
       "      <td>chemists</td>\n",
       "      <td>14.62</td>\n",
       "      <td>8403.0</td>\n",
       "      <td>11.68</td>\n",
       "      <td>73.5</td>\n",
       "    </tr>\n",
       "    <tr>\n",
       "      <th>...</th>\n",
       "      <td>...</td>\n",
       "      <td>...</td>\n",
       "      <td>...</td>\n",
       "      <td>...</td>\n",
       "      <td>...</td>\n",
       "    </tr>\n",
       "    <tr>\n",
       "      <th>99</th>\n",
       "      <td>longshoremen</td>\n",
       "      <td>8.37</td>\n",
       "      <td>4753.0</td>\n",
       "      <td>0.00</td>\n",
       "      <td>26.1</td>\n",
       "    </tr>\n",
       "    <tr>\n",
       "      <th>100</th>\n",
       "      <td>typesetters</td>\n",
       "      <td>10.00</td>\n",
       "      <td>6462.0</td>\n",
       "      <td>13.58</td>\n",
       "      <td>42.2</td>\n",
       "    </tr>\n",
       "    <tr>\n",
       "      <th>101</th>\n",
       "      <td>bookbinders</td>\n",
       "      <td>8.55</td>\n",
       "      <td>3617.0</td>\n",
       "      <td>70.87</td>\n",
       "      <td>35.2</td>\n",
       "    </tr>\n",
       "    <tr>\n",
       "      <th>102</th>\n",
       "      <td>data scientist</td>\n",
       "      <td>NaN</td>\n",
       "      <td>NaN</td>\n",
       "      <td>NaN</td>\n",
       "      <td>NaN</td>\n",
       "    </tr>\n",
       "    <tr>\n",
       "      <th>98</th>\n",
       "      <td>taxi.drivers</td>\n",
       "      <td>7.93</td>\n",
       "      <td>4224.0</td>\n",
       "      <td>3.59</td>\n",
       "      <td>25.1</td>\n",
       "    </tr>\n",
       "  </tbody>\n",
       "</table>\n",
       "<p>103 rows × 5 columns</p>\n",
       "</div>"
      ],
      "text/plain": [
       "                    name  education   income  women  prestige\n",
       "0     gov.administrators      13.11  12351.0  11.16      68.8\n",
       "1       general.managers      12.26  25879.0   4.02      69.1\n",
       "2            accountants      12.77   9271.0  15.70      63.4\n",
       "3    purchasing.officers      11.42   8865.0   9.11      56.8\n",
       "4               chemists      14.62   8403.0  11.68      73.5\n",
       "..                   ...        ...      ...    ...       ...\n",
       "99          longshoremen       8.37   4753.0   0.00      26.1\n",
       "100          typesetters      10.00   6462.0  13.58      42.2\n",
       "101          bookbinders       8.55   3617.0  70.87      35.2\n",
       "102       data scientist        NaN      NaN    NaN       NaN\n",
       "98          taxi.drivers       7.93   4224.0   3.59      25.1\n",
       "\n",
       "[103 rows x 5 columns]"
      ]
     },
     "execution_count": 32,
     "metadata": {},
     "output_type": "execute_result"
    }
   ],
   "source": [
    "prof"
   ]
  },
  {
   "cell_type": "code",
   "execution_count": null,
   "metadata": {},
   "outputs": [],
   "source": []
  }
 ],
 "metadata": {
  "kernelspec": {
   "display_name": "Python 3",
   "language": "python",
   "name": "python3"
  },
  "language_info": {
   "codemirror_mode": {
    "name": "ipython",
    "version": 3
   },
   "file_extension": ".py",
   "mimetype": "text/x-python",
   "name": "python",
   "nbconvert_exporter": "python",
   "pygments_lexer": "ipython3",
   "version": "3.7.7"
  }
 },
 "nbformat": 4,
 "nbformat_minor": 4
}
