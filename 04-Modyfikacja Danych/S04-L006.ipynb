{
 "cells": [
  {
   "cell_type": "code",
   "execution_count": 1,
   "metadata": {},
   "outputs": [],
   "source": [
    "import pandas as pd\n",
    "import numpy as np"
   ]
  },
  {
   "cell_type": "code",
   "execution_count": 5,
   "metadata": {},
   "outputs": [
    {
     "name": "stdout",
     "output_type": "stream",
     "text": [
      "<class 'pandas.core.frame.DataFrame'>\n",
      "RangeIndex: 56 entries, 0 to 55\n",
      "Data columns (total 15 columns):\n",
      " #   Column            Non-Null Count  Dtype  \n",
      "---  ------            --------------  -----  \n",
      " 0   status_id         56 non-null     object \n",
      " 1   status_message    40 non-null     object \n",
      " 2   link_name         56 non-null     object \n",
      " 3   status_type       56 non-null     object \n",
      " 4   status_link       56 non-null     object \n",
      " 5   status_published  56 non-null     object \n",
      " 6   num_reactions     54 non-null     float64\n",
      " 7   num_comments      55 non-null     float64\n",
      " 8   num_shares        56 non-null     float64\n",
      " 9   num_likes         56 non-null     int64  \n",
      " 10  num_loves         56 non-null     int64  \n",
      " 11  num_wows          56 non-null     int64  \n",
      " 12  num_hahas         56 non-null     int64  \n",
      " 13  num_sads          56 non-null     int64  \n",
      " 14  num_angrys        56 non-null     int64  \n",
      "dtypes: float64(3), int64(6), object(6)\n",
      "memory usage: 34.4 KB\n"
     ]
    }
   ],
   "source": [
    "fb = pd.read_csv('./data/mrbean_facebook_statuses_with_nulls.csv')\n",
    "fb.info(memory_usage='deep')"
   ]
  },
  {
   "cell_type": "code",
   "execution_count": 6,
   "metadata": {},
   "outputs": [
    {
     "name": "stdout",
     "output_type": "stream",
     "text": [
      "<class 'pandas.core.frame.DataFrame'>\n",
      "RangeIndex: 56 entries, 0 to 55\n",
      "Data columns (total 6 columns):\n",
      " #   Column          Non-Null Count  Dtype  \n",
      "---  ------          --------------  -----  \n",
      " 0   status_message  40 non-null     object \n",
      " 1   link_name       56 non-null     object \n",
      " 2   status_type     56 non-null     object \n",
      " 3   num_reactions   54 non-null     float64\n",
      " 4   num_shares      56 non-null     float64\n",
      " 5   num_likes       56 non-null     int64  \n",
      "dtypes: float64(2), int64(1), object(3)\n",
      "memory usage: 16.1 KB\n"
     ]
    }
   ],
   "source": [
    "fb = pd.read_csv('./data/mrbean_facebook_statuses_with_nulls.csv', usecols=[\"status_message\", \"status_type\", \"link_name\",\n",
    "                                                                            \"num_reactions\", \"num_shares\", \"num_likes\"])\n",
    "fb.info(memory_usage='deep')"
   ]
  },
  {
   "cell_type": "code",
   "execution_count": 7,
   "metadata": {},
   "outputs": [
    {
     "data": {
      "text/plain": [
       "3"
      ]
     },
     "execution_count": 7,
     "metadata": {},
     "output_type": "execute_result"
    }
   ],
   "source": [
    "fb['status_type'].nunique()"
   ]
  },
  {
   "cell_type": "code",
   "execution_count": 8,
   "metadata": {},
   "outputs": [],
   "source": [
    "fb['status_type'] = fb['status_type'].astype('category')"
   ]
  },
  {
   "cell_type": "code",
   "execution_count": 9,
   "metadata": {},
   "outputs": [
    {
     "data": {
      "text/plain": [
       "32"
      ]
     },
     "execution_count": 9,
     "metadata": {},
     "output_type": "execute_result"
    }
   ],
   "source": [
    "fb['link_name'].nunique()"
   ]
  },
  {
   "cell_type": "code",
   "execution_count": 10,
   "metadata": {},
   "outputs": [
    {
     "data": {
      "text/plain": [
       "Timeline Photos                                                               22\n",
       "www.youtube.com                                                                4\n",
       "Mr. Bean (NEW series) - Ice Cream                                              1\n",
       "Mr Bean - Restaurant Etiquette                                                 1\n",
       "Mr. Bean - Alarm Clock                                                         1\n",
       "Mr. Bean - Saxophone Player                                                    1\n",
       "Mr Bean - Prison Break                                                         1\n",
       "Mr. Bean - Counting Sheep.                                                     1\n",
       "Mr. Bean (NEW series) - The Lift                                               1\n",
       "Mr Bean - Ray Of Sunshine                                                      1\n",
       "Mr. Bean's Happy Moments                                                       1\n",
       "Mr. Bean - Making A Sandwich                                                   1\n",
       "Mr Bean - Preparing To Go Camping                                              1\n",
       "Mr Bean - Broken Tooth                                                         1\n",
       "Mr Bean - Crazy Golf                                                           1\n",
       "Mr. Bean - How to stop a baby from crying                                      1\n",
       "Mr. Bean (NEW Series) - Dancing Bean                                           1\n",
       "Mr. Bean - At the Disco                                                        1\n",
       "Mr. Bean - Sneezing and Snoozing In Church                                     1\n",
       "Mr. Bean - Fixing Your Own Teeth                                               1\n",
       "Mr. Bean - High Dive                                                           1\n",
       "Even in LEGO, Mr. Bean travels in comfort | The Brothers Brick | LEGO Blog     1\n",
       "Mr Bean (NEW series) - Litterbugs Clip                                         1\n",
       "Mr Bean - Sun Block                                                            1\n",
       "Mr. Bean - Embarrassing Moments Compilation                                    1\n",
       "Mr. Bean - Elderly people on stairs                                            1\n",
       "Mr Bean - Dinner for Two                                                       1\n",
       "Mr Bean - Chemistry experiment                                                 1\n",
       "Rowan Atkinson: I will never wave goodbye to Mr Bean                           1\n",
       "Mr. Bean - Mystery creature                                                    1\n",
       "Mr. Bean - Shopping for Towels                                                 1\n",
       "Mr Bean - Country fete games -- Volksfest Spiele                               1\n",
       "Name: link_name, dtype: int64"
      ]
     },
     "execution_count": 10,
     "metadata": {},
     "output_type": "execute_result"
    }
   ],
   "source": [
    "fb['link_name'].value_counts()"
   ]
  },
  {
   "cell_type": "code",
   "execution_count": 11,
   "metadata": {},
   "outputs": [],
   "source": [
    "fb['link_name'] = fb['link_name'].astype('category')"
   ]
  },
  {
   "cell_type": "code",
   "execution_count": 13,
   "metadata": {},
   "outputs": [
    {
     "name": "stdout",
     "output_type": "stream",
     "text": [
      "<class 'pandas.core.frame.DataFrame'>\n",
      "RangeIndex: 56 entries, 0 to 55\n",
      "Data columns (total 6 columns):\n",
      " #   Column          Non-Null Count  Dtype   \n",
      "---  ------          --------------  -----   \n",
      " 0   status_message  40 non-null     object  \n",
      " 1   link_name       56 non-null     category\n",
      " 2   status_type     56 non-null     category\n",
      " 3   num_reactions   54 non-null     float64 \n",
      " 4   num_shares      56 non-null     float64 \n",
      " 5   num_likes       56 non-null     int64   \n",
      "dtypes: category(2), float64(2), int64(1), object(1)\n",
      "memory usage: 12.6 KB\n"
     ]
    }
   ],
   "source": [
    "fb.info(memory_usage='deep')"
   ]
  },
  {
   "cell_type": "code",
   "execution_count": 14,
   "metadata": {},
   "outputs": [],
   "source": [
    "fb['num_reactions'].fillna(0, inplace=True)\n",
    "fb['num_shares'].fillna(0, inplace=True)\n",
    "fb['num_reactions'] = fb['num_reactions'].astype('int')\n",
    "fb['num_shares'] = fb['num_shares'].astype('int')\n",
    "fb['num_likes'] = fb['num_likes'].astype('int')"
   ]
  },
  {
   "cell_type": "code",
   "execution_count": 15,
   "metadata": {},
   "outputs": [
    {
     "name": "stdout",
     "output_type": "stream",
     "text": [
      "<class 'pandas.core.frame.DataFrame'>\n",
      "RangeIndex: 56 entries, 0 to 55\n",
      "Data columns (total 6 columns):\n",
      " #   Column          Non-Null Count  Dtype   \n",
      "---  ------          --------------  -----   \n",
      " 0   status_message  40 non-null     object  \n",
      " 1   link_name       56 non-null     category\n",
      " 2   status_type     56 non-null     category\n",
      " 3   num_reactions   56 non-null     int32   \n",
      " 4   num_shares      56 non-null     int32   \n",
      " 5   num_likes       56 non-null     int32   \n",
      "dtypes: category(2), int32(3), object(1)\n",
      "memory usage: 12.0 KB\n"
     ]
    }
   ],
   "source": [
    "fb.info(memory_usage='deep')"
   ]
  },
  {
   "cell_type": "code",
   "execution_count": null,
   "metadata": {},
   "outputs": [],
   "source": []
  }
 ],
 "metadata": {
  "kernelspec": {
   "display_name": "Python 3",
   "language": "python",
   "name": "python3"
  },
  "language_info": {
   "codemirror_mode": {
    "name": "ipython",
    "version": 3
   },
   "file_extension": ".py",
   "mimetype": "text/x-python",
   "name": "python",
   "nbconvert_exporter": "python",
   "pygments_lexer": "ipython3",
   "version": "3.7.7"
  }
 },
 "nbformat": 4,
 "nbformat_minor": 4
}
