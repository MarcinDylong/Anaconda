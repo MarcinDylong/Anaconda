{
 "cells": [
  {
   "cell_type": "code",
   "execution_count": 1,
   "metadata": {},
   "outputs": [],
   "source": [
    "import pandas as pd\n",
    "import numpy as np\n",
    "import matplotlib as plt"
   ]
  },
  {
   "cell_type": "code",
   "execution_count": 2,
   "metadata": {},
   "outputs": [
    {
     "data": {
      "text/html": [
       "<div>\n",
       "<style scoped>\n",
       "    .dataframe tbody tr th:only-of-type {\n",
       "        vertical-align: middle;\n",
       "    }\n",
       "\n",
       "    .dataframe tbody tr th {\n",
       "        vertical-align: top;\n",
       "    }\n",
       "\n",
       "    .dataframe thead th {\n",
       "        text-align: right;\n",
       "    }\n",
       "</style>\n",
       "<table border=\"1\" class=\"dataframe\">\n",
       "  <thead>\n",
       "    <tr style=\"text-align: right;\">\n",
       "      <th></th>\n",
       "      <th>date</th>\n",
       "      <th>tournament</th>\n",
       "      <th>opponent</th>\n",
       "      <th>scored</th>\n",
       "      <th>conceded</th>\n",
       "      <th>is_home</th>\n",
       "      <th>neutral</th>\n",
       "      <th>city</th>\n",
       "      <th>country</th>\n",
       "    </tr>\n",
       "  </thead>\n",
       "  <tbody>\n",
       "    <tr>\n",
       "      <th>0</th>\n",
       "      <td>1921-12-18</td>\n",
       "      <td>Friendly</td>\n",
       "      <td>Hungary</td>\n",
       "      <td>0</td>\n",
       "      <td>1</td>\n",
       "      <td>False</td>\n",
       "      <td>False</td>\n",
       "      <td>Budapest</td>\n",
       "      <td>Hungary</td>\n",
       "    </tr>\n",
       "    <tr>\n",
       "      <th>1</th>\n",
       "      <td>1922-05-14</td>\n",
       "      <td>Friendly</td>\n",
       "      <td>Hungary</td>\n",
       "      <td>0</td>\n",
       "      <td>3</td>\n",
       "      <td>True</td>\n",
       "      <td>False</td>\n",
       "      <td>Cracow</td>\n",
       "      <td>Poland</td>\n",
       "    </tr>\n",
       "    <tr>\n",
       "      <th>2</th>\n",
       "      <td>1922-05-28</td>\n",
       "      <td>Friendly</td>\n",
       "      <td>Sweden</td>\n",
       "      <td>2</td>\n",
       "      <td>1</td>\n",
       "      <td>False</td>\n",
       "      <td>False</td>\n",
       "      <td>Stockholm</td>\n",
       "      <td>Sweden</td>\n",
       "    </tr>\n",
       "    <tr>\n",
       "      <th>3</th>\n",
       "      <td>1922-09-03</td>\n",
       "      <td>Friendly</td>\n",
       "      <td>Romania</td>\n",
       "      <td>1</td>\n",
       "      <td>1</td>\n",
       "      <td>False</td>\n",
       "      <td>False</td>\n",
       "      <td>Cernăuţi</td>\n",
       "      <td>Romania</td>\n",
       "    </tr>\n",
       "    <tr>\n",
       "      <th>4</th>\n",
       "      <td>1922-10-01</td>\n",
       "      <td>Friendly</td>\n",
       "      <td>Yugoslavia</td>\n",
       "      <td>3</td>\n",
       "      <td>1</td>\n",
       "      <td>False</td>\n",
       "      <td>False</td>\n",
       "      <td>Zagreb</td>\n",
       "      <td>Yugoslavia</td>\n",
       "    </tr>\n",
       "  </tbody>\n",
       "</table>\n",
       "</div>"
      ],
      "text/plain": [
       "         date tournament    opponent  scored  conceded  is_home  neutral  \\\n",
       "0  1921-12-18   Friendly     Hungary       0         1    False    False   \n",
       "1  1922-05-14   Friendly     Hungary       0         3     True    False   \n",
       "2  1922-05-28   Friendly      Sweden       2         1    False    False   \n",
       "3  1922-09-03   Friendly     Romania       1         1    False    False   \n",
       "4  1922-10-01   Friendly  Yugoslavia       3         1    False    False   \n",
       "\n",
       "        city     country  \n",
       "0   Budapest     Hungary  \n",
       "1     Cracow      Poland  \n",
       "2  Stockholm      Sweden  \n",
       "3   Cernăuţi     Romania  \n",
       "4     Zagreb  Yugoslavia  "
      ]
     },
     "execution_count": 2,
     "metadata": {},
     "output_type": "execute_result"
    }
   ],
   "source": [
    "games = pd.read_csv('./data/results_pl.csv')\n",
    "games.head()"
   ]
  },
  {
   "cell_type": "code",
   "execution_count": 3,
   "metadata": {},
   "outputs": [],
   "source": [
    "def points(row):\n",
    "    if row['scored'] > row['conceded']:\n",
    "        return 3\n",
    "    elif row['scored'] == row['conceded']:\n",
    "        return 1\n",
    "    else:\n",
    "        return 0"
   ]
  },
  {
   "cell_type": "code",
   "execution_count": 4,
   "metadata": {},
   "outputs": [],
   "source": [
    "games['points'] = games.apply(points, axis=1)\n",
    "games['decade'] = games.apply(lambda x: x['date'][:3]+'0', axis=1).astype('category')"
   ]
  },
  {
   "cell_type": "code",
   "execution_count": 5,
   "metadata": {},
   "outputs": [
    {
     "data": {
      "text/html": [
       "<div>\n",
       "<style scoped>\n",
       "    .dataframe tbody tr th:only-of-type {\n",
       "        vertical-align: middle;\n",
       "    }\n",
       "\n",
       "    .dataframe tbody tr th {\n",
       "        vertical-align: top;\n",
       "    }\n",
       "\n",
       "    .dataframe thead th {\n",
       "        text-align: right;\n",
       "    }\n",
       "</style>\n",
       "<table border=\"1\" class=\"dataframe\">\n",
       "  <thead>\n",
       "    <tr style=\"text-align: right;\">\n",
       "      <th></th>\n",
       "      <th>date</th>\n",
       "      <th>tournament</th>\n",
       "      <th>opponent</th>\n",
       "      <th>scored</th>\n",
       "      <th>conceded</th>\n",
       "      <th>is_home</th>\n",
       "      <th>points</th>\n",
       "      <th>decade</th>\n",
       "    </tr>\n",
       "  </thead>\n",
       "  <tbody>\n",
       "    <tr>\n",
       "      <th>0</th>\n",
       "      <td>1921-12-18</td>\n",
       "      <td>Friendly</td>\n",
       "      <td>Hungary</td>\n",
       "      <td>0</td>\n",
       "      <td>1</td>\n",
       "      <td>False</td>\n",
       "      <td>0</td>\n",
       "      <td>1920</td>\n",
       "    </tr>\n",
       "    <tr>\n",
       "      <th>1</th>\n",
       "      <td>1922-05-14</td>\n",
       "      <td>Friendly</td>\n",
       "      <td>Hungary</td>\n",
       "      <td>0</td>\n",
       "      <td>3</td>\n",
       "      <td>True</td>\n",
       "      <td>0</td>\n",
       "      <td>1920</td>\n",
       "    </tr>\n",
       "    <tr>\n",
       "      <th>2</th>\n",
       "      <td>1922-05-28</td>\n",
       "      <td>Friendly</td>\n",
       "      <td>Sweden</td>\n",
       "      <td>2</td>\n",
       "      <td>1</td>\n",
       "      <td>False</td>\n",
       "      <td>3</td>\n",
       "      <td>1920</td>\n",
       "    </tr>\n",
       "    <tr>\n",
       "      <th>3</th>\n",
       "      <td>1922-09-03</td>\n",
       "      <td>Friendly</td>\n",
       "      <td>Romania</td>\n",
       "      <td>1</td>\n",
       "      <td>1</td>\n",
       "      <td>False</td>\n",
       "      <td>1</td>\n",
       "      <td>1920</td>\n",
       "    </tr>\n",
       "    <tr>\n",
       "      <th>4</th>\n",
       "      <td>1922-10-01</td>\n",
       "      <td>Friendly</td>\n",
       "      <td>Yugoslavia</td>\n",
       "      <td>3</td>\n",
       "      <td>1</td>\n",
       "      <td>False</td>\n",
       "      <td>3</td>\n",
       "      <td>1920</td>\n",
       "    </tr>\n",
       "  </tbody>\n",
       "</table>\n",
       "</div>"
      ],
      "text/plain": [
       "         date tournament    opponent  scored  conceded  is_home  points decade\n",
       "0  1921-12-18   Friendly     Hungary       0         1    False       0   1920\n",
       "1  1922-05-14   Friendly     Hungary       0         3     True       0   1920\n",
       "2  1922-05-28   Friendly      Sweden       2         1    False       3   1920\n",
       "3  1922-09-03   Friendly     Romania       1         1    False       1   1920\n",
       "4  1922-10-01   Friendly  Yugoslavia       3         1    False       3   1920"
      ]
     },
     "execution_count": 5,
     "metadata": {},
     "output_type": "execute_result"
    }
   ],
   "source": [
    "to_drop = ['neutral','city','country']\n",
    "\n",
    "games.drop(columns=to_drop, axis=1, inplace=True)\n",
    "games.head()"
   ]
  },
  {
   "cell_type": "markdown",
   "metadata": {},
   "source": [
    "## Number of games by decades"
   ]
  },
  {
   "cell_type": "code",
   "execution_count": 6,
   "metadata": {},
   "outputs": [
    {
     "data": {
      "text/plain": [
       "decade\n",
       "1920     28\n",
       "1930     51\n",
       "1940     20\n",
       "1950     47\n",
       "1960     73\n",
       "1970    107\n",
       "1980    118\n",
       "1990    120\n",
       "2000    135\n",
       "2010    116\n",
       "dtype: int64"
      ]
     },
     "execution_count": 6,
     "metadata": {},
     "output_type": "execute_result"
    }
   ],
   "source": [
    "decades = games.groupby('decade')\n",
    "decades.size()"
   ]
  },
  {
   "cell_type": "markdown",
   "metadata": {},
   "source": [
    "## Most common opponents by decades"
   ]
  },
  {
   "cell_type": "code",
   "execution_count": 7,
   "metadata": {},
   "outputs": [
    {
     "name": "stdout",
     "output_type": "stream",
     "text": [
      "1920:Sweden - 6\n",
      "1930:Yugoslavia - 9\n",
      "1940:Romania - 4\n",
      "1950:Bulgaria - 7\n",
      "1960:Bulgaria - 5\n",
      "1970:Republic of Ireland - 7\n",
      "1980:Romania - 6\n",
      "1990:England - 8\n",
      "2000:Wales - 5\n",
      "2010:Republic of Ireland - 5\n"
     ]
    }
   ],
   "source": [
    "for decade, data in decades:\n",
    "    print(decade + ':' + data['opponent'].value_counts().index[0] + ' - ' + str(data['opponent'].value_counts()[0]))\n",
    "    "
   ]
  },
  {
   "cell_type": "markdown",
   "metadata": {},
   "source": [
    "## Tournaments by decades:"
   ]
  },
  {
   "cell_type": "code",
   "execution_count": 8,
   "metadata": {},
   "outputs": [
    {
     "name": "stdout",
     "output_type": "stream",
     "text": [
      "\n",
      "1920:\n",
      "Friendly - 28\n",
      "\n",
      "1930:\n",
      "Friendly - 47\n",
      "FIFA World Cup qualification - 3\n",
      "FIFA World Cup - 1\n",
      "\n",
      "1940:\n",
      "Friendly - 15\n",
      "Balkan Cup - 5\n",
      "\n",
      "1950:\n",
      "Friendly - 40\n",
      "FIFA World Cup qualification - 5\n",
      "UEFA Euro qualification - 2\n",
      "\n",
      "1960:\n",
      "Friendly - 51\n",
      "FIFA World Cup qualification - 14\n",
      "UEFA Euro qualification - 8\n",
      "\n",
      "1970:\n",
      "Friendly - 64\n",
      "UEFA Euro qualification - 20\n",
      "FIFA World Cup - 13\n",
      "FIFA World Cup qualification - 10\n",
      "\n",
      "1980:\n",
      "Friendly - 73\n",
      "FIFA World Cup qualification - 16\n",
      "UEFA Euro qualification - 14\n",
      "FIFA World Cup - 11\n",
      "Nehru Cup - 4\n",
      "\n",
      "1990:\n",
      "Friendly - 75\n",
      "UEFA Euro qualification - 23\n",
      "FIFA World Cup qualification - 18\n",
      "Cyprus International Tournament - 3\n",
      "Lunar New Year Cup - 1\n",
      "\n",
      "2000:\n",
      "Friendly - 74\n",
      "FIFA World Cup qualification - 30\n",
      "UEFA Euro qualification - 22\n",
      "FIFA World Cup - 6\n",
      "UEFA Euro - 3\n",
      "\n",
      "2010:\n",
      "Friendly - 59\n",
      "UEFA Euro qualification - 20\n",
      "FIFA World Cup qualification - 20\n",
      "UEFA Euro - 8\n",
      "UEFA Nations League - 4\n",
      "FIFA World Cup - 3\n",
      "King's Cup - 2\n"
     ]
    }
   ],
   "source": [
    "for decade, data in decades:\n",
    "    tour = data['tournament'].value_counts()\n",
    "    print(\"\\n\"+decade+':')\n",
    "    for i,v in tour.iteritems():\n",
    "        print(i + ' - ' + str(v))"
   ]
  },
  {
   "cell_type": "markdown",
   "metadata": {},
   "source": [
    "## Performances by decades"
   ]
  },
  {
   "cell_type": "code",
   "execution_count": 9,
   "metadata": {},
   "outputs": [
    {
     "data": {
      "text/html": [
       "<div>\n",
       "<style scoped>\n",
       "    .dataframe tbody tr th:only-of-type {\n",
       "        vertical-align: middle;\n",
       "    }\n",
       "\n",
       "    .dataframe tbody tr th {\n",
       "        vertical-align: top;\n",
       "    }\n",
       "\n",
       "    .dataframe thead th {\n",
       "        text-align: right;\n",
       "    }\n",
       "</style>\n",
       "<table border=\"1\" class=\"dataframe\">\n",
       "  <thead>\n",
       "    <tr style=\"text-align: right;\">\n",
       "      <th></th>\n",
       "      <th>games</th>\n",
       "      <th>scored</th>\n",
       "      <th>conceded</th>\n",
       "      <th>points</th>\n",
       "      <th>ratio</th>\n",
       "    </tr>\n",
       "    <tr>\n",
       "      <th>decade</th>\n",
       "      <th></th>\n",
       "      <th></th>\n",
       "      <th></th>\n",
       "      <th></th>\n",
       "      <th></th>\n",
       "    </tr>\n",
       "  </thead>\n",
       "  <tbody>\n",
       "    <tr>\n",
       "      <th>1970</th>\n",
       "      <td>107</td>\n",
       "      <td>203</td>\n",
       "      <td>102</td>\n",
       "      <td>204</td>\n",
       "      <td>1.91</td>\n",
       "    </tr>\n",
       "    <tr>\n",
       "      <th>2010</th>\n",
       "      <td>116</td>\n",
       "      <td>197</td>\n",
       "      <td>118</td>\n",
       "      <td>200</td>\n",
       "      <td>1.72</td>\n",
       "    </tr>\n",
       "    <tr>\n",
       "      <th>2000</th>\n",
       "      <td>135</td>\n",
       "      <td>220</td>\n",
       "      <td>144</td>\n",
       "      <td>228</td>\n",
       "      <td>1.69</td>\n",
       "    </tr>\n",
       "    <tr>\n",
       "      <th>1980</th>\n",
       "      <td>118</td>\n",
       "      <td>172</td>\n",
       "      <td>141</td>\n",
       "      <td>184</td>\n",
       "      <td>1.56</td>\n",
       "    </tr>\n",
       "    <tr>\n",
       "      <th>1960</th>\n",
       "      <td>73</td>\n",
       "      <td>150</td>\n",
       "      <td>109</td>\n",
       "      <td>105</td>\n",
       "      <td>1.44</td>\n",
       "    </tr>\n",
       "    <tr>\n",
       "      <th>1990</th>\n",
       "      <td>120</td>\n",
       "      <td>146</td>\n",
       "      <td>156</td>\n",
       "      <td>170</td>\n",
       "      <td>1.42</td>\n",
       "    </tr>\n",
       "    <tr>\n",
       "      <th>1920</th>\n",
       "      <td>28</td>\n",
       "      <td>56</td>\n",
       "      <td>60</td>\n",
       "      <td>36</td>\n",
       "      <td>1.29</td>\n",
       "    </tr>\n",
       "    <tr>\n",
       "      <th>1930</th>\n",
       "      <td>51</td>\n",
       "      <td>121</td>\n",
       "      <td>119</td>\n",
       "      <td>64</td>\n",
       "      <td>1.25</td>\n",
       "    </tr>\n",
       "    <tr>\n",
       "      <th>1950</th>\n",
       "      <td>47</td>\n",
       "      <td>76</td>\n",
       "      <td>91</td>\n",
       "      <td>50</td>\n",
       "      <td>1.06</td>\n",
       "    </tr>\n",
       "    <tr>\n",
       "      <th>1940</th>\n",
       "      <td>20</td>\n",
       "      <td>30</td>\n",
       "      <td>58</td>\n",
       "      <td>18</td>\n",
       "      <td>0.90</td>\n",
       "    </tr>\n",
       "  </tbody>\n",
       "</table>\n",
       "</div>"
      ],
      "text/plain": [
       "        games  scored  conceded  points  ratio\n",
       "decade                                        \n",
       "1970      107     203       102     204   1.91\n",
       "2010      116     197       118     200   1.72\n",
       "2000      135     220       144     228   1.69\n",
       "1980      118     172       141     184   1.56\n",
       "1960       73     150       109     105   1.44\n",
       "1990      120     146       156     170   1.42\n",
       "1920       28      56        60      36   1.29\n",
       "1930       51     121       119      64   1.25\n",
       "1950       47      76        91      50   1.06\n",
       "1940       20      30        58      18   0.90"
      ]
     },
     "execution_count": 9,
     "metadata": {},
     "output_type": "execute_result"
    }
   ],
   "source": [
    "results = decades.agg({'date':'count', 'scored':'sum', 'conceded':'sum', 'points':'sum'})\n",
    "results.rename(columns={'date':'games'}, inplace=True)\n",
    "results['ratio'] = round(results['points'] / results['games'],2)\n",
    "results.sort_values('ratio', ascending=False)"
   ]
  },
  {
   "cell_type": "code",
   "execution_count": 10,
   "metadata": {},
   "outputs": [
    {
     "data": {
      "text/plain": [
       "<matplotlib.axes._subplots.AxesSubplot at 0x223e0ad9b08>"
      ]
     },
     "execution_count": 10,
     "metadata": {},
     "output_type": "execute_result"
    },
    {
     "data": {
      "image/png": "[encoded data removed]",
      "text/plain": [
       "<Figure size 1080x360 with 1 Axes>"
      ]
     },
     "metadata": {
      "needs_background": "light"
     },
     "output_type": "display_data"
    }
   ],
   "source": [
    "results[['scored','conceded']].plot(kind='bar', rot=45, figsize=(15,5), title='Goals by decades')"
   ]
  },
  {
   "cell_type": "code",
   "execution_count": 11,
   "metadata": {},
   "outputs": [
    {
     "data": {
      "text/plain": [
       "<matplotlib.axes._subplots.AxesSubplot at 0x223e1431e88>"
      ]
     },
     "execution_count": 11,
     "metadata": {},
     "output_type": "execute_result"
    },
    {
     "data": {
      "image/png": "[encoded data removed]",
      "text/plain": [
       "<Figure size 1080x360 with 1 Axes>"
      ]
     },
     "metadata": {
      "needs_background": "light"
     },
     "output_type": "display_data"
    }
   ],
   "source": [
    "results[['points','games']].plot(kind='bar', rot=45, figsize=(15,5), title='Points by decades')"
   ]
  },
  {
   "cell_type": "code",
   "execution_count": 12,
   "metadata": {},
   "outputs": [
    {
     "data": {
      "text/plain": [
       "<matplotlib.axes._subplots.AxesSubplot at 0x223e1306d88>"
      ]
     },
     "execution_count": 12,
     "metadata": {},
     "output_type": "execute_result"
    },
    {
     "data": {
      "image/png": "[encoded data removed]",
      "text/plain": [
       "<Figure size 1080x360 with 1 Axes>"
      ]
     },
     "metadata": {
      "needs_background": "light"
     },
     "output_type": "display_data"
    }
   ],
   "source": [
    "results['ratio'].plot(kind='bar', rot=45, figsize=(15,5), title='Point\\'s ratios by decades', table=True, xticks=[])"
   ]
  },
  {
   "cell_type": "code",
   "execution_count": null,
   "metadata": {},
   "outputs": [],
   "source": []
  }
 ],
 "metadata": {
  "kernelspec": {
   "display_name": "Python 3",
   "language": "python",
   "name": "python3"
  },
  "language_info": {
   "codemirror_mode": {
    "name": "ipython",
    "version": 3
   },
   "file_extension": ".py",
   "mimetype": "text/x-python",
   "name": "python",
   "nbconvert_exporter": "python",
   "pygments_lexer": "ipython3",
   "version": "3.7.7"
  }
 },
 "nbformat": 4,
 "nbformat_minor": 4
}
