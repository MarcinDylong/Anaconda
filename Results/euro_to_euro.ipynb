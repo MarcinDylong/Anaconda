{
 "cells": [
  {
   "cell_type": "code",
   "execution_count": 1,
   "metadata": {},
   "outputs": [],
   "source": [
    "import pandas as pd\n",
    "import numpy as np\n",
    "import matplotlib as plt"
   ]
  },
  {
   "cell_type": "code",
   "execution_count": 2,
   "metadata": {},
   "outputs": [
    {
     "data": {
      "text/html": [
       "<div>\n",
       "<style scoped>\n",
       "    .dataframe tbody tr th:only-of-type {\n",
       "        vertical-align: middle;\n",
       "    }\n",
       "\n",
       "    .dataframe tbody tr th {\n",
       "        vertical-align: top;\n",
       "    }\n",
       "\n",
       "    .dataframe thead th {\n",
       "        text-align: right;\n",
       "    }\n",
       "</style>\n",
       "<table border=\"1\" class=\"dataframe\">\n",
       "  <thead>\n",
       "    <tr style=\"text-align: right;\">\n",
       "      <th></th>\n",
       "      <th>date</th>\n",
       "      <th>tournament</th>\n",
       "      <th>opponent</th>\n",
       "      <th>scored</th>\n",
       "      <th>conceded</th>\n",
       "      <th>is_home</th>\n",
       "      <th>neutral</th>\n",
       "      <th>city</th>\n",
       "      <th>country</th>\n",
       "    </tr>\n",
       "  </thead>\n",
       "  <tbody>\n",
       "    <tr>\n",
       "      <th>149</th>\n",
       "      <td>1960-09-28</td>\n",
       "      <td>Friendly</td>\n",
       "      <td>France</td>\n",
       "      <td>2</td>\n",
       "      <td>2</td>\n",
       "      <td>True</td>\n",
       "      <td>False</td>\n",
       "      <td>Warsaw</td>\n",
       "      <td>Poland</td>\n",
       "    </tr>\n",
       "    <tr>\n",
       "      <th>150</th>\n",
       "      <td>1960-11-13</td>\n",
       "      <td>Friendly</td>\n",
       "      <td>Hungary</td>\n",
       "      <td>1</td>\n",
       "      <td>4</td>\n",
       "      <td>False</td>\n",
       "      <td>False</td>\n",
       "      <td>Budapest</td>\n",
       "      <td>Hungary</td>\n",
       "    </tr>\n",
       "    <tr>\n",
       "      <th>151</th>\n",
       "      <td>1961-05-21</td>\n",
       "      <td>Friendly</td>\n",
       "      <td>Russia</td>\n",
       "      <td>1</td>\n",
       "      <td>0</td>\n",
       "      <td>True</td>\n",
       "      <td>False</td>\n",
       "      <td>Warsaw</td>\n",
       "      <td>Poland</td>\n",
       "    </tr>\n",
       "    <tr>\n",
       "      <th>152</th>\n",
       "      <td>1961-06-04</td>\n",
       "      <td>FIFA World Cup qualification</td>\n",
       "      <td>Yugoslavia</td>\n",
       "      <td>1</td>\n",
       "      <td>2</td>\n",
       "      <td>False</td>\n",
       "      <td>False</td>\n",
       "      <td>Belgrade</td>\n",
       "      <td>Yugoslavia</td>\n",
       "    </tr>\n",
       "    <tr>\n",
       "      <th>153</th>\n",
       "      <td>1961-06-25</td>\n",
       "      <td>FIFA World Cup qualification</td>\n",
       "      <td>Yugoslavia</td>\n",
       "      <td>1</td>\n",
       "      <td>1</td>\n",
       "      <td>True</td>\n",
       "      <td>False</td>\n",
       "      <td>Chorzów</td>\n",
       "      <td>Poland</td>\n",
       "    </tr>\n",
       "  </tbody>\n",
       "</table>\n",
       "</div>"
      ],
      "text/plain": [
       "           date                    tournament    opponent  scored  conceded  \\\n",
       "149  1960-09-28                      Friendly      France       2         2   \n",
       "150  1960-11-13                      Friendly     Hungary       1         4   \n",
       "151  1961-05-21                      Friendly      Russia       1         0   \n",
       "152  1961-06-04  FIFA World Cup qualification  Yugoslavia       1         2   \n",
       "153  1961-06-25  FIFA World Cup qualification  Yugoslavia       1         1   \n",
       "\n",
       "     is_home  neutral      city     country  \n",
       "149     True    False    Warsaw      Poland  \n",
       "150    False    False  Budapest     Hungary  \n",
       "151     True    False    Warsaw      Poland  \n",
       "152    False    False  Belgrade  Yugoslavia  \n",
       "153     True    False   Chorzów      Poland  "
      ]
     },
     "execution_count": 2,
     "metadata": {},
     "output_type": "execute_result"
    }
   ],
   "source": [
    "games = pd.read_csv('../data/results_pl.csv')\n",
    "time_filter = games['date']> \"1960-06-30\"\n",
    "games = games[time_filter]\n",
    "games.head()"
   ]
  },
  {
   "cell_type": "code",
   "execution_count": 3,
   "metadata": {},
   "outputs": [],
   "source": [
    "def points(row):\n",
    "    if row['scored'] > row['conceded']:\n",
    "        return 3\n",
    "    elif row['scored'] == row['conceded']:\n",
    "        return 1\n",
    "    else:\n",
    "        return 0"
   ]
  },
  {
   "cell_type": "code",
   "execution_count": 4,
   "metadata": {},
   "outputs": [],
   "source": [
    "def time_partition(row):\n",
    "        date = row['date'].split('-')\n",
    "        if int(date[0]) % 4 == 0:\n",
    "            if int(date[1]) <= 6:\n",
    "                yr = int(date[0])\n",
    "            else:\n",
    "                yr = int(date[0])+4\n",
    "        else:\n",
    "            yr = ((int(date[0]) // 4) + 1) * 4 \n",
    "            \n",
    "        return str(yr-4) + \"-\" + str(yr)"
   ]
  },
  {
   "cell_type": "code",
   "execution_count": 5,
   "metadata": {},
   "outputs": [],
   "source": [
    "games['points'] = games.apply(points, axis=1)\n",
    "# games['decade'] = games.apply(lambda x: x['date'][:3]+'0', axis=1).astype('category')\n",
    "games['period'] = games.apply(time_partition, axis=1).astype('category')"
   ]
  },
  {
   "cell_type": "code",
   "execution_count": 6,
   "metadata": {},
   "outputs": [
    {
     "data": {
      "text/html": [
       "<div>\n",
       "<style scoped>\n",
       "    .dataframe tbody tr th:only-of-type {\n",
       "        vertical-align: middle;\n",
       "    }\n",
       "\n",
       "    .dataframe tbody tr th {\n",
       "        vertical-align: top;\n",
       "    }\n",
       "\n",
       "    .dataframe thead th {\n",
       "        text-align: right;\n",
       "    }\n",
       "</style>\n",
       "<table border=\"1\" class=\"dataframe\">\n",
       "  <thead>\n",
       "    <tr style=\"text-align: right;\">\n",
       "      <th></th>\n",
       "      <th>date</th>\n",
       "      <th>tournament</th>\n",
       "      <th>opponent</th>\n",
       "      <th>scored</th>\n",
       "      <th>conceded</th>\n",
       "      <th>points</th>\n",
       "      <th>period</th>\n",
       "    </tr>\n",
       "  </thead>\n",
       "  <tbody>\n",
       "    <tr>\n",
       "      <th>149</th>\n",
       "      <td>1960-09-28</td>\n",
       "      <td>Friendly</td>\n",
       "      <td>France</td>\n",
       "      <td>2</td>\n",
       "      <td>2</td>\n",
       "      <td>1</td>\n",
       "      <td>1960-1964</td>\n",
       "    </tr>\n",
       "    <tr>\n",
       "      <th>150</th>\n",
       "      <td>1960-11-13</td>\n",
       "      <td>Friendly</td>\n",
       "      <td>Hungary</td>\n",
       "      <td>1</td>\n",
       "      <td>4</td>\n",
       "      <td>0</td>\n",
       "      <td>1960-1964</td>\n",
       "    </tr>\n",
       "    <tr>\n",
       "      <th>151</th>\n",
       "      <td>1961-05-21</td>\n",
       "      <td>Friendly</td>\n",
       "      <td>Russia</td>\n",
       "      <td>1</td>\n",
       "      <td>0</td>\n",
       "      <td>3</td>\n",
       "      <td>1960-1964</td>\n",
       "    </tr>\n",
       "    <tr>\n",
       "      <th>152</th>\n",
       "      <td>1961-06-04</td>\n",
       "      <td>FIFA World Cup qualification</td>\n",
       "      <td>Yugoslavia</td>\n",
       "      <td>1</td>\n",
       "      <td>2</td>\n",
       "      <td>0</td>\n",
       "      <td>1960-1964</td>\n",
       "    </tr>\n",
       "    <tr>\n",
       "      <th>153</th>\n",
       "      <td>1961-06-25</td>\n",
       "      <td>FIFA World Cup qualification</td>\n",
       "      <td>Yugoslavia</td>\n",
       "      <td>1</td>\n",
       "      <td>1</td>\n",
       "      <td>1</td>\n",
       "      <td>1960-1964</td>\n",
       "    </tr>\n",
       "  </tbody>\n",
       "</table>\n",
       "</div>"
      ],
      "text/plain": [
       "           date                    tournament    opponent  scored  conceded  \\\n",
       "149  1960-09-28                      Friendly      France       2         2   \n",
       "150  1960-11-13                      Friendly     Hungary       1         4   \n",
       "151  1961-05-21                      Friendly      Russia       1         0   \n",
       "152  1961-06-04  FIFA World Cup qualification  Yugoslavia       1         2   \n",
       "153  1961-06-25  FIFA World Cup qualification  Yugoslavia       1         1   \n",
       "\n",
       "     points     period  \n",
       "149       1  1960-1964  \n",
       "150       0  1960-1964  \n",
       "151       3  1960-1964  \n",
       "152       0  1960-1964  \n",
       "153       1  1960-1964  "
      ]
     },
     "execution_count": 6,
     "metadata": {},
     "output_type": "execute_result"
    }
   ],
   "source": [
    "to_drop = ['neutral','city','country', 'is_home']\n",
    "\n",
    "games.drop(columns=to_drop, axis=1, inplace=True)\n",
    "games.head()"
   ]
  },
  {
   "cell_type": "markdown",
   "metadata": {},
   "source": [
    "## Number of games"
   ]
  },
  {
   "cell_type": "code",
   "execution_count": 9,
   "metadata": {},
   "outputs": [
    {
     "data": {
      "text/plain": [
       "period\n",
       "1960-1964    24\n",
       "1964-1968    34\n",
       "1968-1972    30\n",
       "1972-1976    49\n",
       "1976-1980    51\n",
       "1980-1984    43\n",
       "1984-1988    48\n",
       "1988-1992    49\n",
       "1992-1996    45\n",
       "1996-2000    47\n",
       "2000-2004    50\n",
       "2004-2008    60\n",
       "2008-2012    53\n",
       "2012-2016    47\n",
       "2016-2020    36\n",
       "dtype: int64"
      ]
     },
     "execution_count": 9,
     "metadata": {},
     "output_type": "execute_result"
    }
   ],
   "source": [
    "periods = games.groupby('period')\n",
    "periods.size()"
   ]
  },
  {
   "cell_type": "markdown",
   "metadata": {},
   "source": [
    "## Most common opponents"
   ]
  },
  {
   "cell_type": "code",
   "execution_count": 10,
   "metadata": {},
   "outputs": [
    {
     "name": "stdout",
     "output_type": "stream",
     "text": [
      "1960-1964:Morocco - 2\n",
      "1964-1968:Belgium - 3\n",
      "1968-1972:German DR - 4\n",
      "1972-1976:United States - 6\n",
      "1976-1980:Hungary - 3\n",
      "1980-1984:Japan - 4\n",
      "1984-1988:Greece - 4\n",
      "1988-1992:Sweden - 4\n",
      "1992-1996:Israel - 4\n",
      "1996-2000:England - 4\n",
      "2000-2004:Sweden - 3\n",
      "2004-2008:Azerbaijan - 4\n",
      "2008-2012:Czech Republic - 3\n",
      "2012-2016:Republic of Ireland - 4\n",
      "2016-2020:Slovenia - 3\n"
     ]
    }
   ],
   "source": [
    "for period, data in periods:\n",
    "    print(period + ':' + data['opponent'].value_counts().index[0] + ' - ' + str(data['opponent'].value_counts()[0]))\n",
    "    "
   ]
  },
  {
   "cell_type": "markdown",
   "metadata": {},
   "source": [
    "## Tournaments:"
   ]
  },
  {
   "cell_type": "code",
   "execution_count": 11,
   "metadata": {},
   "outputs": [
    {
     "name": "stdout",
     "output_type": "stream",
     "text": [
      "\n",
      "1960-1964:\n",
      "Friendly - 20\n",
      "FIFA World Cup qualification - 2\n",
      "UEFA Euro qualification - 2\n",
      "\n",
      "1964-1968:\n",
      "Friendly - 22\n",
      "FIFA World Cup qualification - 6\n",
      "UEFA Euro qualification - 6\n",
      "\n",
      "1968-1972:\n",
      "Friendly - 18\n",
      "FIFA World Cup qualification - 6\n",
      "UEFA Euro qualification - 6\n",
      "\n",
      "1972-1976:\n",
      "Friendly - 32\n",
      "FIFA World Cup - 7\n",
      "UEFA Euro qualification - 6\n",
      "FIFA World Cup qualification - 4\n",
      "\n",
      "1976-1980:\n",
      "Friendly - 31\n",
      "UEFA Euro qualification - 8\n",
      "FIFA World Cup - 6\n",
      "FIFA World Cup qualification - 6\n",
      "\n",
      "1980-1984:\n",
      "Friendly - 22\n",
      "FIFA World Cup - 7\n",
      "UEFA Euro qualification - 6\n",
      "Nehru Cup - 4\n",
      "FIFA World Cup qualification - 4\n",
      "\n",
      "1984-1988:\n",
      "Friendly - 30\n",
      "UEFA Euro qualification - 8\n",
      "FIFA World Cup qualification - 6\n",
      "FIFA World Cup - 4\n",
      "\n",
      "1988-1992:\n",
      "Friendly - 37\n",
      "FIFA World Cup qualification - 6\n",
      "UEFA Euro qualification - 6\n",
      "\n",
      "1992-1996:\n",
      "Friendly - 25\n",
      "FIFA World Cup qualification - 10\n",
      "UEFA Euro qualification - 9\n",
      "Lunar New Year Cup - 1\n",
      "\n",
      "1996-2000:\n",
      "Friendly - 28\n",
      "FIFA World Cup qualification - 8\n",
      "UEFA Euro qualification - 8\n",
      "Cyprus International Tournament - 3\n",
      "\n",
      "2000-2004:\n",
      "Friendly - 29\n",
      "FIFA World Cup qualification - 10\n",
      "UEFA Euro qualification - 8\n",
      "FIFA World Cup - 3\n",
      "\n",
      "2004-2008:\n",
      "Friendly - 30\n",
      "UEFA Euro qualification - 14\n",
      "FIFA World Cup qualification - 10\n",
      "UEFA Euro - 3\n",
      "FIFA World Cup - 3\n",
      "\n",
      "2008-2012:\n",
      "Friendly - 38\n",
      "FIFA World Cup qualification - 10\n",
      "UEFA Euro - 3\n",
      "King's Cup - 2\n",
      "\n",
      "2012-2016:\n",
      "Friendly - 22\n",
      "FIFA World Cup qualification - 10\n",
      "UEFA Euro qualification - 10\n",
      "UEFA Euro - 5\n",
      "\n",
      "2016-2020:\n",
      "FIFA World Cup qualification - 10\n",
      "UEFA Euro qualification - 10\n",
      "Friendly - 9\n",
      "UEFA Nations League - 4\n",
      "FIFA World Cup - 3\n"
     ]
    }
   ],
   "source": [
    "for period, data in periods:\n",
    "    tour = data['tournament'].value_counts()\n",
    "    print(\"\\n\"+period+':')\n",
    "    for i,v in tour.iteritems():\n",
    "        print(i + ' - ' + str(v))"
   ]
  },
  {
   "cell_type": "markdown",
   "metadata": {},
   "source": [
    "## Performances"
   ]
  },
  {
   "cell_type": "code",
   "execution_count": 12,
   "metadata": {},
   "outputs": [
    {
     "data": {
      "text/html": [
       "<div>\n",
       "<style scoped>\n",
       "    .dataframe tbody tr th:only-of-type {\n",
       "        vertical-align: middle;\n",
       "    }\n",
       "\n",
       "    .dataframe tbody tr th {\n",
       "        vertical-align: top;\n",
       "    }\n",
       "\n",
       "    .dataframe thead th {\n",
       "        text-align: right;\n",
       "    }\n",
       "</style>\n",
       "<table border=\"1\" class=\"dataframe\">\n",
       "  <thead>\n",
       "    <tr style=\"text-align: right;\">\n",
       "      <th></th>\n",
       "      <th>games</th>\n",
       "      <th>scored</th>\n",
       "      <th>conceded</th>\n",
       "      <th>points</th>\n",
       "      <th>ratio</th>\n",
       "    </tr>\n",
       "    <tr>\n",
       "      <th>period</th>\n",
       "      <th></th>\n",
       "      <th></th>\n",
       "      <th></th>\n",
       "      <th></th>\n",
       "      <th></th>\n",
       "    </tr>\n",
       "  </thead>\n",
       "  <tbody>\n",
       "    <tr>\n",
       "      <th>1972-1976</th>\n",
       "      <td>49</td>\n",
       "      <td>99</td>\n",
       "      <td>45</td>\n",
       "      <td>94</td>\n",
       "      <td>1.92</td>\n",
       "    </tr>\n",
       "    <tr>\n",
       "      <th>1980-1984</th>\n",
       "      <td>43</td>\n",
       "      <td>78</td>\n",
       "      <td>42</td>\n",
       "      <td>79</td>\n",
       "      <td>1.84</td>\n",
       "    </tr>\n",
       "    <tr>\n",
       "      <th>2000-2004</th>\n",
       "      <td>50</td>\n",
       "      <td>87</td>\n",
       "      <td>50</td>\n",
       "      <td>92</td>\n",
       "      <td>1.84</td>\n",
       "    </tr>\n",
       "    <tr>\n",
       "      <th>1968-1972</th>\n",
       "      <td>30</td>\n",
       "      <td>63</td>\n",
       "      <td>33</td>\n",
       "      <td>55</td>\n",
       "      <td>1.83</td>\n",
       "    </tr>\n",
       "    <tr>\n",
       "      <th>2016-2020</th>\n",
       "      <td>36</td>\n",
       "      <td>63</td>\n",
       "      <td>39</td>\n",
       "      <td>65</td>\n",
       "      <td>1.81</td>\n",
       "    </tr>\n",
       "    <tr>\n",
       "      <th>2004-2008</th>\n",
       "      <td>60</td>\n",
       "      <td>103</td>\n",
       "      <td>66</td>\n",
       "      <td>106</td>\n",
       "      <td>1.77</td>\n",
       "    </tr>\n",
       "    <tr>\n",
       "      <th>2012-2016</th>\n",
       "      <td>47</td>\n",
       "      <td>90</td>\n",
       "      <td>43</td>\n",
       "      <td>83</td>\n",
       "      <td>1.77</td>\n",
       "    </tr>\n",
       "    <tr>\n",
       "      <th>1976-1980</th>\n",
       "      <td>51</td>\n",
       "      <td>84</td>\n",
       "      <td>52</td>\n",
       "      <td>87</td>\n",
       "      <td>1.71</td>\n",
       "    </tr>\n",
       "    <tr>\n",
       "      <th>1988-1992</th>\n",
       "      <td>49</td>\n",
       "      <td>62</td>\n",
       "      <td>63</td>\n",
       "      <td>74</td>\n",
       "      <td>1.51</td>\n",
       "    </tr>\n",
       "    <tr>\n",
       "      <th>2008-2012</th>\n",
       "      <td>53</td>\n",
       "      <td>73</td>\n",
       "      <td>57</td>\n",
       "      <td>80</td>\n",
       "      <td>1.51</td>\n",
       "    </tr>\n",
       "    <tr>\n",
       "      <th>1996-2000</th>\n",
       "      <td>47</td>\n",
       "      <td>59</td>\n",
       "      <td>62</td>\n",
       "      <td>69</td>\n",
       "      <td>1.47</td>\n",
       "    </tr>\n",
       "    <tr>\n",
       "      <th>1960-1964</th>\n",
       "      <td>24</td>\n",
       "      <td>48</td>\n",
       "      <td>32</td>\n",
       "      <td>35</td>\n",
       "      <td>1.46</td>\n",
       "    </tr>\n",
       "    <tr>\n",
       "      <th>1984-1988</th>\n",
       "      <td>48</td>\n",
       "      <td>60</td>\n",
       "      <td>66</td>\n",
       "      <td>67</td>\n",
       "      <td>1.40</td>\n",
       "    </tr>\n",
       "    <tr>\n",
       "      <th>1992-1996</th>\n",
       "      <td>45</td>\n",
       "      <td>48</td>\n",
       "      <td>56</td>\n",
       "      <td>58</td>\n",
       "      <td>1.29</td>\n",
       "    </tr>\n",
       "    <tr>\n",
       "      <th>1964-1968</th>\n",
       "      <td>34</td>\n",
       "      <td>63</td>\n",
       "      <td>55</td>\n",
       "      <td>41</td>\n",
       "      <td>1.21</td>\n",
       "    </tr>\n",
       "  </tbody>\n",
       "</table>\n",
       "</div>"
      ],
      "text/plain": [
       "           games  scored  conceded  points  ratio\n",
       "period                                           \n",
       "1972-1976     49      99        45      94   1.92\n",
       "1980-1984     43      78        42      79   1.84\n",
       "2000-2004     50      87        50      92   1.84\n",
       "1968-1972     30      63        33      55   1.83\n",
       "2016-2020     36      63        39      65   1.81\n",
       "2004-2008     60     103        66     106   1.77\n",
       "2012-2016     47      90        43      83   1.77\n",
       "1976-1980     51      84        52      87   1.71\n",
       "1988-1992     49      62        63      74   1.51\n",
       "2008-2012     53      73        57      80   1.51\n",
       "1996-2000     47      59        62      69   1.47\n",
       "1960-1964     24      48        32      35   1.46\n",
       "1984-1988     48      60        66      67   1.40\n",
       "1992-1996     45      48        56      58   1.29\n",
       "1964-1968     34      63        55      41   1.21"
      ]
     },
     "execution_count": 12,
     "metadata": {},
     "output_type": "execute_result"
    }
   ],
   "source": [
    "results = periods.agg({'date':'count', 'scored':'sum', 'conceded':'sum', 'points':'sum'})\n",
    "results.rename(columns={'date':'games'}, inplace=True)\n",
    "results['ratio'] = round(results['points'] / results['games'],2)\n",
    "results.sort_values('ratio', ascending=False)"
   ]
  },
  {
   "cell_type": "code",
   "execution_count": 16,
   "metadata": {},
   "outputs": [
    {
     "data": {
      "text/plain": [
       "<matplotlib.axes._subplots.AxesSubplot at 0x1f5af28ce08>"
      ]
     },
     "execution_count": 16,
     "metadata": {},
     "output_type": "execute_result"
    },
    {
     "data": {
      "image/png": "[encoded data removed]",
      "text/plain": [
       "<Figure size 1080x360 with 1 Axes>"
      ]
     },
     "metadata": {
      "needs_background": "light"
     },
     "output_type": "display_data"
    }
   ],
   "source": [
    "results[['scored','conceded']].plot(kind='bar', rot=45, figsize=(15,5), title='From Euro to Euro goals')"
   ]
  },
  {
   "cell_type": "code",
   "execution_count": 17,
   "metadata": {},
   "outputs": [
    {
     "data": {
      "text/plain": [
       "<matplotlib.axes._subplots.AxesSubplot at 0x1f5af5a9a08>"
      ]
     },
     "execution_count": 17,
     "metadata": {},
     "output_type": "execute_result"
    },
    {
     "data": {
      "image/png": "[encoded data removed]",
      "text/plain": [
       "<Figure size 1080x360 with 1 Axes>"
      ]
     },
     "metadata": {
      "needs_background": "light"
     },
     "output_type": "display_data"
    }
   ],
   "source": [
    "results[['points','games']].plot(kind='bar', rot=45, figsize=(15,5), title='From Euro to Euro Points')"
   ]
  },
  {
   "cell_type": "code",
   "execution_count": 18,
   "metadata": {},
   "outputs": [
    {
     "data": {
      "text/plain": [
       "<matplotlib.axes._subplots.AxesSubplot at 0x1f5af824e48>"
      ]
     },
     "execution_count": 18,
     "metadata": {},
     "output_type": "execute_result"
    },
    {
     "data": {
      "image/png": "[encoded data removed]",
      "text/plain": [
       "<Figure size 1080x360 with 1 Axes>"
      ]
     },
     "metadata": {
      "needs_background": "light"
     },
     "output_type": "display_data"
    }
   ],
   "source": [
    "results['ratio'].plot(kind='bar', rot=45, figsize=(15,5), title='From Euro to Euro points ratios', table=True, xticks=[])"
   ]
  },
  {
   "cell_type": "code",
   "execution_count": null,
   "metadata": {},
   "outputs": [],
   "source": []
  }
 ],
 "metadata": {
  "kernelspec": {
   "display_name": "Python 3",
   "language": "python",
   "name": "python3"
  },
  "language_info": {
   "codemirror_mode": {
    "name": "ipython",
    "version": 3
   },
   "file_extension": ".py",
   "mimetype": "text/x-python",
   "name": "python",
   "nbconvert_exporter": "python",
   "pygments_lexer": "ipython3",
   "version": "3.7.7"
  }
 },
 "nbformat": 4,
 "nbformat_minor": 4
}
